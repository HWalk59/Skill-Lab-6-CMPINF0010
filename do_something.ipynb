{
 "cells": [
  {
   "cell_type": "code",
   "execution_count": 2,
   "metadata": {},
   "outputs": [
    {
     "name": "stdin",
     "output_type": "stream",
     "text": [
      "Enter your name:  Hayen\n",
      "Enter your favorite number:  13\n"
     ]
    },
    {
     "name": "stdout",
     "output_type": "stream",
     "text": [
      "Hello,  Hayen The number of characters in your name * your favorite number is,  65.0\n"
     ]
    }
   ],
   "source": [
    "#ASking for their name\n",
    "name = input(\"Enter your name: \")\n",
    "\n",
    "#Asking what their favorite number is\n",
    "number = float(input(\"Enter your favorite number: \"))\n",
    "\n",
    "#multiplying the number of characters in their name with\n",
    "#their favorite number\n",
    "result = number * len(name)\n",
    "\n",
    "# Printing a personalized message\n",
    "print(\"Hello, \", name, \"The number of characters in your name * your favorite number is, \", result)\n"
   ]
  },
  {
   "cell_type": "code",
   "execution_count": null,
   "metadata": {},
   "outputs": [],
   "source": []
  }
 ],
 "metadata": {
  "kernelspec": {
   "display_name": "Python 3",
   "language": "python",
   "name": "python3"
  },
  "language_info": {
   "codemirror_mode": {
    "name": "ipython",
    "version": 3
   },
   "file_extension": ".py",
   "mimetype": "text/x-python",
   "name": "python",
   "nbconvert_exporter": "python",
   "pygments_lexer": "ipython3",
   "version": "3.8.3"
  }
 },
 "nbformat": 4,
 "nbformat_minor": 4
}
